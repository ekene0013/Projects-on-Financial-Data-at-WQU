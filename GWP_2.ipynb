{
  "cells": [
    {
      "cell_type": "markdown",
      "metadata": {
        "id": "view-in-github",
        "colab_type": "text"
      },
      "source": [
        "<a href=\"https://colab.research.google.com/github/ekene0013/Projects-on-Financial-Data-at-WQU/blob/main/GWP_3.ipynb\" target=\"_parent\"><img src=\"https://colab.research.google.com/assets/colab-badge.svg\" alt=\"Open In Colab\"/></a>"
      ]
    },
    {
      "cell_type": "markdown",
      "id": "e11cce7f",
      "metadata": {
        "id": "e11cce7f"
      },
      "source": [
        "## Section 1: Concepts Explained in Words\n",
        "\n",
        "**Statistical Related Risk: Volatility**\n",
        "\n",
        "Volatility is a statistical measure of the dispersion of returns for a given security or market index. It measures how much the price of a security or index fluctuates over a certain period of time. Volatility is often used as a measure of risk, as higher volatility means that the price of the security or index can move up or down rapidly in a short period of time.\n",
        "\n",
        "Volatility can be calculated in different ways, but the most commonly used method is to calculate the standard deviation of the security or index returns. The higher the standard deviation, the higher the volatility.\n",
        "\n",
        "**Statistical Related Risk: Correlation**\n",
        "\n",
        "Correlation is a statistical measure of the relationship between two variables. In finance, correlation measures the degree to which the returns of two assets move together. A correlation of +1 means that the two assets move in perfect lockstep, while a correlation of -1 means that they move in opposite directions. A correlation of 0 means that there is no relationship between the returns of the two assets.\n",
        "\n",
        "Correlation is important because it helps investors to diversify their portfolios. If two assets are highly positively correlated, then investing in both assets does not provide much diversification benefit, as they will tend to move in the same direction. On the other hand, if two assets are negatively correlated or uncorrelated, then investing in both assets can provide greater diversification benefits, as the movements of the assets will tend to offset each other.\n"
      ]
    },
    {
      "cell_type": "markdown",
      "id": "fdd7a3cb",
      "metadata": {
        "id": "fdd7a3cb"
      },
      "source": [
        "## Section 2: Real-World Examples\n",
        "- Asset Class 1: S&P 500 Index (US Equities)\n",
        "- Asset Class 2: Single Stock Large US Cap (IBM)\n",
        "\n",
        "We will use historical data of the S&P 500 index from January 1995 to December 2023 to illustrate the concepts of volatility and correlation. The data was obtained from Yahoo Finance.\n",
        "\n",
        "**Volatility**\n",
        "\n",
        "To calculate the volatility of the S&P 500 index, we first calculate the daily returns of the index. We then calculate the standard deviation of the daily returns, which gives us the volatility.\n",
        "#Here's the code to calculate the volatility:\n"
      ]
    },
    {
      "cell_type": "code",
      "execution_count": null,
      "id": "d582fee5",
      "metadata": {
        "id": "d582fee5"
      },
      "outputs": [],
      "source": [
        "import sys\n",
        "# !{sys.executable} -m pip install yfinance\n",
        "import yfinance\n",
        "import pandas as pd"
      ]
    },
    {
      "cell_type": "code",
      "execution_count": null,
      "id": "2d2ca50d",
      "metadata": {
        "colab": {
          "base_uri": "https://localhost:8080/"
        },
        "id": "2d2ca50d",
        "outputId": "3725def1-3c67-4274-cfbd-302ec1ecc1f5"
      },
      "outputs": [
        {
          "name": "stdout",
          "output_type": "stream",
          "text": [
            "[*********************100%***********************]  1 of 1 completed\n"
          ]
        }
      ],
      "source": [
        "SNP_data = yfinance.download (tickers = \"SPY\", start = \"1995-01-01\",\n",
        "                              end = \"2023-04-01\", interval = \"1d\")"
      ]
    },
    {
      "cell_type": "code",
      "execution_count": null,
      "id": "eb1ccead",
      "metadata": {
        "colab": {
          "base_uri": "https://localhost:8080/",
          "height": 394
        },
        "id": "eb1ccead",
        "outputId": "0bb4ec42-bef5-440a-f364-84a587dbef69"
      },
      "outputs": [
        {
          "data": {
            "text/html": [
              "<div>\n",
              "<style scoped>\n",
              "    .dataframe tbody tr th:only-of-type {\n",
              "        vertical-align: middle;\n",
              "    }\n",
              "\n",
              "    .dataframe tbody tr th {\n",
              "        vertical-align: top;\n",
              "    }\n",
              "\n",
              "    .dataframe thead th {\n",
              "        text-align: right;\n",
              "    }\n",
              "</style>\n",
              "<table border=\"1\" class=\"dataframe\">\n",
              "  <thead>\n",
              "    <tr style=\"text-align: right;\">\n",
              "      <th></th>\n",
              "      <th>Open</th>\n",
              "      <th>High</th>\n",
              "      <th>Low</th>\n",
              "      <th>Close</th>\n",
              "      <th>Adj Close</th>\n",
              "      <th>Volume</th>\n",
              "    </tr>\n",
              "    <tr>\n",
              "      <th>Date</th>\n",
              "      <th></th>\n",
              "      <th></th>\n",
              "      <th></th>\n",
              "      <th></th>\n",
              "      <th></th>\n",
              "      <th></th>\n",
              "    </tr>\n",
              "  </thead>\n",
              "  <tbody>\n",
              "    <tr>\n",
              "      <th>1995-01-03</th>\n",
              "      <td>45.703125</td>\n",
              "      <td>45.843750</td>\n",
              "      <td>45.687500</td>\n",
              "      <td>45.781250</td>\n",
              "      <td>27.550451</td>\n",
              "      <td>324300</td>\n",
              "    </tr>\n",
              "    <tr>\n",
              "      <th>1995-01-04</th>\n",
              "      <td>45.984375</td>\n",
              "      <td>46.000000</td>\n",
              "      <td>45.750000</td>\n",
              "      <td>46.000000</td>\n",
              "      <td>27.682077</td>\n",
              "      <td>351800</td>\n",
              "    </tr>\n",
              "    <tr>\n",
              "      <th>1995-01-05</th>\n",
              "      <td>46.031250</td>\n",
              "      <td>46.109375</td>\n",
              "      <td>45.953125</td>\n",
              "      <td>46.000000</td>\n",
              "      <td>27.682077</td>\n",
              "      <td>89800</td>\n",
              "    </tr>\n",
              "    <tr>\n",
              "      <th>1995-01-06</th>\n",
              "      <td>46.093750</td>\n",
              "      <td>46.250000</td>\n",
              "      <td>45.906250</td>\n",
              "      <td>46.046875</td>\n",
              "      <td>27.710287</td>\n",
              "      <td>448400</td>\n",
              "    </tr>\n",
              "    <tr>\n",
              "      <th>1995-01-09</th>\n",
              "      <td>46.031250</td>\n",
              "      <td>46.093750</td>\n",
              "      <td>46.000000</td>\n",
              "      <td>46.093750</td>\n",
              "      <td>27.738499</td>\n",
              "      <td>36800</td>\n",
              "    </tr>\n",
              "    <tr>\n",
              "      <th>1995-01-10</th>\n",
              "      <td>46.203125</td>\n",
              "      <td>46.390625</td>\n",
              "      <td>46.140625</td>\n",
              "      <td>46.140625</td>\n",
              "      <td>27.766699</td>\n",
              "      <td>229800</td>\n",
              "    </tr>\n",
              "    <tr>\n",
              "      <th>1995-01-11</th>\n",
              "      <td>46.296875</td>\n",
              "      <td>46.296875</td>\n",
              "      <td>45.812500</td>\n",
              "      <td>46.171875</td>\n",
              "      <td>27.785517</td>\n",
              "      <td>222400</td>\n",
              "    </tr>\n",
              "    <tr>\n",
              "      <th>1995-01-12</th>\n",
              "      <td>46.125000</td>\n",
              "      <td>46.218750</td>\n",
              "      <td>46.031250</td>\n",
              "      <td>46.187500</td>\n",
              "      <td>27.794914</td>\n",
              "      <td>40300</td>\n",
              "    </tr>\n",
              "    <tr>\n",
              "      <th>1995-01-13</th>\n",
              "      <td>46.437500</td>\n",
              "      <td>46.734375</td>\n",
              "      <td>46.375000</td>\n",
              "      <td>46.734375</td>\n",
              "      <td>28.124012</td>\n",
              "      <td>170600</td>\n",
              "    </tr>\n",
              "    <tr>\n",
              "      <th>1995-01-16</th>\n",
              "      <td>46.718750</td>\n",
              "      <td>47.031250</td>\n",
              "      <td>46.718750</td>\n",
              "      <td>47.015625</td>\n",
              "      <td>28.293262</td>\n",
              "      <td>105100</td>\n",
              "    </tr>\n",
              "  </tbody>\n",
              "</table>\n",
              "</div>"
            ],
            "text/plain": [
              "                 Open       High        Low      Close  Adj Close  Volume\n",
              "Date                                                                     \n",
              "1995-01-03  45.703125  45.843750  45.687500  45.781250  27.550451  324300\n",
              "1995-01-04  45.984375  46.000000  45.750000  46.000000  27.682077  351800\n",
              "1995-01-05  46.031250  46.109375  45.953125  46.000000  27.682077   89800\n",
              "1995-01-06  46.093750  46.250000  45.906250  46.046875  27.710287  448400\n",
              "1995-01-09  46.031250  46.093750  46.000000  46.093750  27.738499   36800\n",
              "1995-01-10  46.203125  46.390625  46.140625  46.140625  27.766699  229800\n",
              "1995-01-11  46.296875  46.296875  45.812500  46.171875  27.785517  222400\n",
              "1995-01-12  46.125000  46.218750  46.031250  46.187500  27.794914   40300\n",
              "1995-01-13  46.437500  46.734375  46.375000  46.734375  28.124012  170600\n",
              "1995-01-16  46.718750  47.031250  46.718750  47.015625  28.293262  105100"
            ]
          },
          "execution_count": 3,
          "metadata": {},
          "output_type": "execute_result"
        }
      ],
      "source": [
        "SNP_data.head(10)"
      ]
    },
    {
      "cell_type": "code",
      "execution_count": null,
      "id": "fa18f46d",
      "metadata": {
        "colab": {
          "base_uri": "https://localhost:8080/"
        },
        "id": "fa18f46d",
        "outputId": "8487a33e-9c44-4080-a5af-f7a717ddc243"
      },
      "outputs": [
        {
          "name": "stdout",
          "output_type": "stream",
          "text": [
            "Volatility of S&P 500 index:  0.0122\n"
          ]
        }
      ],
      "source": [
        "# Calculate daily returns\n",
        "SNP_data['Returns'] = SNP_data['Adj Close'].pct_change()\n",
        "\n",
        "# Calculate volatility\n",
        "volatility = SNP_data['Returns'].std()\n",
        "print('Volatility of S&P 500 index: ', round(volatility, 4))\n",
        "\n",
        "#The volatility of the S&P 500 index over this period was 0.0121.\n"
      ]
    },
    {
      "cell_type": "markdown",
      "id": "23a3dc48",
      "metadata": {
        "id": "23a3dc48"
      },
      "source": [
        "**Correlation**\n",
        "\n",
        "To calculate the correlation between the S&P 500 index and another asset (IBM), we can calculate the daily returns of both assets and then calculate the correlation between them. Here, we will calculate the correlation between the S&P 500 index and IBM"
      ]
    },
    {
      "cell_type": "code",
      "execution_count": null,
      "id": "3bef708b",
      "metadata": {
        "colab": {
          "base_uri": "https://localhost:8080/",
          "height": 411
        },
        "id": "3bef708b",
        "outputId": "e8ed831f-095d-4ff4-c47b-f3923a995963"
      },
      "outputs": [
        {
          "name": "stdout",
          "output_type": "stream",
          "text": [
            "[*********************100%***********************]  1 of 1 completed\n"
          ]
        },
        {
          "data": {
            "text/html": [
              "<div>\n",
              "<style scoped>\n",
              "    .dataframe tbody tr th:only-of-type {\n",
              "        vertical-align: middle;\n",
              "    }\n",
              "\n",
              "    .dataframe tbody tr th {\n",
              "        vertical-align: top;\n",
              "    }\n",
              "\n",
              "    .dataframe thead th {\n",
              "        text-align: right;\n",
              "    }\n",
              "</style>\n",
              "<table border=\"1\" class=\"dataframe\">\n",
              "  <thead>\n",
              "    <tr style=\"text-align: right;\">\n",
              "      <th></th>\n",
              "      <th>Open</th>\n",
              "      <th>High</th>\n",
              "      <th>Low</th>\n",
              "      <th>Close</th>\n",
              "      <th>Adj Close</th>\n",
              "      <th>Volume</th>\n",
              "      <th>Returns</th>\n",
              "    </tr>\n",
              "    <tr>\n",
              "      <th>Date</th>\n",
              "      <th></th>\n",
              "      <th></th>\n",
              "      <th></th>\n",
              "      <th></th>\n",
              "      <th></th>\n",
              "      <th></th>\n",
              "      <th></th>\n",
              "    </tr>\n",
              "  </thead>\n",
              "  <tbody>\n",
              "    <tr>\n",
              "      <th>1995-01-03</th>\n",
              "      <td>17.566921</td>\n",
              "      <td>17.656549</td>\n",
              "      <td>17.537046</td>\n",
              "      <td>17.626673</td>\n",
              "      <td>9.638112</td>\n",
              "      <td>4886494</td>\n",
              "      <td>NaN</td>\n",
              "    </tr>\n",
              "    <tr>\n",
              "      <th>1995-01-04</th>\n",
              "      <td>17.656549</td>\n",
              "      <td>17.835802</td>\n",
              "      <td>17.507170</td>\n",
              "      <td>17.776052</td>\n",
              "      <td>9.719785</td>\n",
              "      <td>8345825</td>\n",
              "      <td>0.008474</td>\n",
              "    </tr>\n",
              "    <tr>\n",
              "      <th>1995-01-05</th>\n",
              "      <td>17.776052</td>\n",
              "      <td>17.985182</td>\n",
              "      <td>17.626673</td>\n",
              "      <td>17.686424</td>\n",
              "      <td>9.670776</td>\n",
              "      <td>9501446</td>\n",
              "      <td>-0.005042</td>\n",
              "    </tr>\n",
              "    <tr>\n",
              "      <th>1995-01-06</th>\n",
              "      <td>17.746176</td>\n",
              "      <td>18.104685</td>\n",
              "      <td>17.716299</td>\n",
              "      <td>17.955305</td>\n",
              "      <td>9.817800</td>\n",
              "      <td>12721452</td>\n",
              "      <td>0.015203</td>\n",
              "    </tr>\n",
              "    <tr>\n",
              "      <th>1995-01-09</th>\n",
              "      <td>17.925430</td>\n",
              "      <td>18.134560</td>\n",
              "      <td>17.895554</td>\n",
              "      <td>18.044933</td>\n",
              "      <td>9.866811</td>\n",
              "      <td>7167192</td>\n",
              "      <td>0.004992</td>\n",
              "    </tr>\n",
              "    <tr>\n",
              "      <th>1995-01-10</th>\n",
              "      <td>18.164436</td>\n",
              "      <td>18.463194</td>\n",
              "      <td>18.074808</td>\n",
              "      <td>18.313814</td>\n",
              "      <td>10.013830</td>\n",
              "      <td>14312627</td>\n",
              "      <td>0.014900</td>\n",
              "    </tr>\n",
              "    <tr>\n",
              "      <th>1995-01-11</th>\n",
              "      <td>18.403442</td>\n",
              "      <td>18.433317</td>\n",
              "      <td>17.985182</td>\n",
              "      <td>18.164436</td>\n",
              "      <td>9.932146</td>\n",
              "      <td>10252055</td>\n",
              "      <td>-0.008157</td>\n",
              "    </tr>\n",
              "    <tr>\n",
              "      <th>1995-01-12</th>\n",
              "      <td>18.134560</td>\n",
              "      <td>18.254063</td>\n",
              "      <td>18.044933</td>\n",
              "      <td>18.164436</td>\n",
              "      <td>9.932146</td>\n",
              "      <td>9522366</td>\n",
              "      <td>0.000000</td>\n",
              "    </tr>\n",
              "    <tr>\n",
              "      <th>1995-01-13</th>\n",
              "      <td>18.343691</td>\n",
              "      <td>18.373566</td>\n",
              "      <td>18.104685</td>\n",
              "      <td>18.254063</td>\n",
              "      <td>9.981153</td>\n",
              "      <td>8494775</td>\n",
              "      <td>0.004934</td>\n",
              "    </tr>\n",
              "    <tr>\n",
              "      <th>1995-01-16</th>\n",
              "      <td>18.254063</td>\n",
              "      <td>18.642447</td>\n",
              "      <td>18.254063</td>\n",
              "      <td>18.522945</td>\n",
              "      <td>10.128181</td>\n",
              "      <td>11363744</td>\n",
              "      <td>0.014730</td>\n",
              "    </tr>\n",
              "  </tbody>\n",
              "</table>\n",
              "</div>"
            ],
            "text/plain": [
              "                 Open       High        Low      Close  Adj Close    Volume  \\\n",
              "Date                                                                          \n",
              "1995-01-03  17.566921  17.656549  17.537046  17.626673   9.638112   4886494   \n",
              "1995-01-04  17.656549  17.835802  17.507170  17.776052   9.719785   8345825   \n",
              "1995-01-05  17.776052  17.985182  17.626673  17.686424   9.670776   9501446   \n",
              "1995-01-06  17.746176  18.104685  17.716299  17.955305   9.817800  12721452   \n",
              "1995-01-09  17.925430  18.134560  17.895554  18.044933   9.866811   7167192   \n",
              "1995-01-10  18.164436  18.463194  18.074808  18.313814  10.013830  14312627   \n",
              "1995-01-11  18.403442  18.433317  17.985182  18.164436   9.932146  10252055   \n",
              "1995-01-12  18.134560  18.254063  18.044933  18.164436   9.932146   9522366   \n",
              "1995-01-13  18.343691  18.373566  18.104685  18.254063   9.981153   8494775   \n",
              "1995-01-16  18.254063  18.642447  18.254063  18.522945  10.128181  11363744   \n",
              "\n",
              "             Returns  \n",
              "Date                  \n",
              "1995-01-03       NaN  \n",
              "1995-01-04  0.008474  \n",
              "1995-01-05 -0.005042  \n",
              "1995-01-06  0.015203  \n",
              "1995-01-09  0.004992  \n",
              "1995-01-10  0.014900  \n",
              "1995-01-11 -0.008157  \n",
              "1995-01-12  0.000000  \n",
              "1995-01-13  0.004934  \n",
              "1995-01-16  0.014730  "
            ]
          },
          "execution_count": 5,
          "metadata": {},
          "output_type": "execute_result"
        }
      ],
      "source": [
        "# Load data for IBM\n",
        "IBM = yfinance.download (tickers = \"IBM\", start = \"1995-01-01\",\n",
        "                              end = \"2023-04-01\", interval = \"1d\")\n",
        "\n",
        "IBM['Returns'] = IBM['Adj Close'].pct_change()\n",
        "IBM.head(10)"
      ]
    },
    {
      "cell_type": "code",
      "execution_count": null,
      "id": "9jcI-qNPjA5Q",
      "metadata": {
        "colab": {
          "base_uri": "https://localhost:8080/"
        },
        "id": "9jcI-qNPjA5Q",
        "outputId": "03fb504c-87e7-4cba-f742-186f2f197aae"
      },
      "outputs": [
        {
          "name": "stdout",
          "output_type": "stream",
          "text": [
            "Volatility of IBM:  0.0174\n"
          ]
        }
      ],
      "source": [
        "# Calculate volatility\n",
        "volatility = IBM['Returns'].std()\n",
        "print('Volatility of IBM: ', round(volatility, 4))\n",
        "\n",
        "#The volatility of IBM:  0.0174"
      ]
    },
    {
      "cell_type": "code",
      "execution_count": null,
      "id": "409c8b19",
      "metadata": {
        "colab": {
          "base_uri": "https://localhost:8080/"
        },
        "id": "409c8b19",
        "outputId": "8b752ae1-fd2b-4669-f6f4-6763a162d582"
      },
      "outputs": [
        {
          "name": "stdout",
          "output_type": "stream",
          "text": [
            "Correlation between S&P 500 and IBM:  0.6055\n"
          ]
        }
      ],
      "source": [
        "# Merge S&P 500 and IBM data\n",
        "data = pd.concat([SNP_data['Returns'], IBM['Returns']], axis=1, join='inner')\n",
        "data.columns = ['SP500 Returns', 'IBM Returns']\n",
        "\n",
        "# Calculate correlation\n",
        "correlation = data['SP500 Returns'].corr(data['IBM Returns'])\n",
        "print('Correlation between S&P 500 and IBM: ', round(correlation, 4))\n",
        "\n"
      ]
    },
    {
      "cell_type": "markdown",
      "id": "18df8172",
      "metadata": {
        "id": "18df8172"
      },
      "source": [
        "**Step 5: Show side-by-side graphs that illustrate the presence and absence of the item.**\n",
        "\n",
        "For example, if you were illustrating ‘hot’ vs. ‘cold,’ you could graph the average temperature in two different places that are hot and cold. Your time series plot or barplot or histogram of temperature distributions would show how one type of data illustrates hot, and the other type of data illustrates cold.\n",
        "\n",
        "To illustrate the presence and absence of volatility, we can plot the daily returns of two different asset classes - one with high volatility and one with low volatility. We can use the S&P 500 index as an example of an asset with high volatility and the 10-year US Treasury Bond as an example of an asset with low volatility.\n"
      ]
    },
    {
      "cell_type": "markdown",
      "id": "85909105",
      "metadata": {
        "id": "85909105"
      },
      "source": [
        "This will generate a plot with the daily returns of the S&P 500 on the left and the daily returns of the IBM Stock on the right. The plot clearly illustrates the presence of volatility in the S&P 500 returns, with large fluctuations up and down, and the absence of volatility in the IBM Stock returns, which are much more volatile.\n"
      ]
    },
    {
      "cell_type": "code",
      "execution_count": null,
      "id": "d2c023e5",
      "metadata": {
        "colab": {
          "base_uri": "https://localhost:8080/",
          "height": 520
        },
        "id": "d2c023e5",
        "outputId": "2066a315-902c-4b9e-a40a-e24321a467d0"
      },
      "outputs": [
        {
          "data": {
            "image/png": "[encoded data removed]",
            "text/plain": [
              "<Figure size 1080x360 with 2 Axes>"
            ]
          },
          "metadata": {},
          "output_type": "display_data"
        }
      ],
      "source": [
        "import pandas as pd\n",
        "import numpy as np\n",
        "import matplotlib.pyplot as plt\n",
        "plt.style.use('seaborn')\n",
        "fig, (ax1, ax2) = plt.subplots(1, 2, figsize=(15,5))\n",
        "\n",
        "ax1.plot(SNP_data['Returns'])\n",
        "ax1.set_title('S&P 500 Daily Returns')\n",
        "ax1.set_xlabel('Date')\n",
        "ax1.set_ylabel('Returns')\n",
        "\n",
        "ax2.plot(IBM['Returns'])\n",
        "ax2.set_title('IBM Daily Returns')\n",
        "ax2.set_xlabel('Date')\n",
        "ax2.set_ylabel('Returns')\n",
        "\n",
        "plt.show()\n"
      ]
    },
    {
      "cell_type": "markdown",
      "id": "0f404e97",
      "metadata": {
        "id": "0f404e97"
      },
      "source": [
        "To illustrate the presence and absence of correlation, we can calculate the correlation between daily returns of two different asset classes - one with high correlation and one with low correlation.\n",
        "\n",
        "We can use Coca Cola and Pepsi stocks as an example of assets with high correlation and the price of US Tbill and the price of Amazon as an example of assets with low correlation.\n"
      ]
    },
    {
      "cell_type": "code",
      "execution_count": null,
      "id": "a55d84df",
      "metadata": {
        "colab": {
          "base_uri": "https://localhost:8080/"
        },
        "id": "a55d84df",
        "outputId": "5131e943-0d9f-404f-ddbe-eb609fba99ae"
      },
      "outputs": [
        {
          "name": "stdout",
          "output_type": "stream",
          "text": [
            "[*********************100%***********************]  1 of 1 completed\n",
            "[*********************100%***********************]  1 of 1 completed\n",
            "[*********************100%***********************]  1 of 1 completed\n",
            "[*********************100%***********************]  1 of 1 completed\n"
          ]
        }
      ],
      "source": [
        "#load Coca Cola\n",
        "KO = yfinance.download (tickers = \"KO\", start = \"2005-01-01\",\n",
        "                              end = \"2023-04-01\", interval = \"1d\")\n",
        "\n",
        "KO['Returns'] = KO['Adj Close'].pct_change()\n",
        "\n",
        "#load Pepsi\n",
        "PEP = yfinance.download (tickers = \"PEP\", start = \"2005-01-01\",\n",
        "                              end = \"2023-04-01\", interval = \"1d\")\n",
        "\n",
        "PEP['Returns'] = PEP['Adj Close'].pct_change()\n",
        "\n",
        "# Merge KO and PEP data\n",
        "high_data = pd.concat([KO['Returns'], PEP['Returns']], axis=1, join='inner')\n",
        "high_data.columns = ['KO Returns', 'PEP Returns']\n",
        "\n",
        "\n",
        "#load US T Bill\n",
        "TBIL = yfinance.download (tickers = \"TBIL\", start = \"2005-01-01\",\n",
        "                              end = \"2023-04-01\", interval = \"1d\")\n",
        "\n",
        "TBIL['Returns'] = TBIL['Adj Close'].pct_change()\n",
        "\n",
        "#load AMZN\n",
        "AMZN = yfinance.download (tickers = \"AMZN\", start = \"2005-01-01\",\n",
        "                              end = \"2023-04-01\", interval = \"1d\")\n",
        "\n",
        "AMZN['Returns'] = AMZN['Adj Close'].pct_change()\n",
        "\n",
        "# Merge TBIL and AMZN data\n",
        "low_data = pd.concat([TBIL['Returns'], AMZN['Returns']], axis=1, join='inner')\n",
        "low_data.columns = ['TBIL Returns', 'AMZN Returns']\n",
        "\n",
        "\n"
      ]
    },
    {
      "cell_type": "code",
      "execution_count": null,
      "id": "241f0fc2",
      "metadata": {
        "colab": {
          "base_uri": "https://localhost:8080/",
          "height": 394
        },
        "id": "241f0fc2",
        "outputId": "49ccbe41-9718-47fc-ea66-9f5d50dd0267"
      },
      "outputs": [
        {
          "data": {
            "text/html": [
              "<div>\n",
              "<style scoped>\n",
              "    .dataframe tbody tr th:only-of-type {\n",
              "        vertical-align: middle;\n",
              "    }\n",
              "\n",
              "    .dataframe tbody tr th {\n",
              "        vertical-align: top;\n",
              "    }\n",
              "\n",
              "    .dataframe thead th {\n",
              "        text-align: right;\n",
              "    }\n",
              "</style>\n",
              "<table border=\"1\" class=\"dataframe\">\n",
              "  <thead>\n",
              "    <tr style=\"text-align: right;\">\n",
              "      <th></th>\n",
              "      <th>TBIL Returns</th>\n",
              "      <th>AMZN Returns</th>\n",
              "    </tr>\n",
              "    <tr>\n",
              "      <th>Date</th>\n",
              "      <th></th>\n",
              "      <th></th>\n",
              "    </tr>\n",
              "  </thead>\n",
              "  <tbody>\n",
              "    <tr>\n",
              "      <th>2022-08-09</th>\n",
              "      <td>NaN</td>\n",
              "      <td>-0.011333</td>\n",
              "    </tr>\n",
              "    <tr>\n",
              "      <th>2022-08-10</th>\n",
              "      <td>0.000502</td>\n",
              "      <td>0.035261</td>\n",
              "    </tr>\n",
              "    <tr>\n",
              "      <th>2022-08-11</th>\n",
              "      <td>-0.000201</td>\n",
              "      <td>-0.014367</td>\n",
              "    </tr>\n",
              "    <tr>\n",
              "      <th>2022-08-12</th>\n",
              "      <td>0.000000</td>\n",
              "      <td>0.020691</td>\n",
              "    </tr>\n",
              "    <tr>\n",
              "      <th>2022-08-15</th>\n",
              "      <td>-0.000201</td>\n",
              "      <td>-0.002578</td>\n",
              "    </tr>\n",
              "    <tr>\n",
              "      <th>2022-08-16</th>\n",
              "      <td>0.000402</td>\n",
              "      <td>0.011175</td>\n",
              "    </tr>\n",
              "    <tr>\n",
              "      <th>2022-08-17</th>\n",
              "      <td>0.000000</td>\n",
              "      <td>-0.018511</td>\n",
              "    </tr>\n",
              "    <tr>\n",
              "      <th>2022-08-18</th>\n",
              "      <td>0.000000</td>\n",
              "      <td>0.001407</td>\n",
              "    </tr>\n",
              "    <tr>\n",
              "      <th>2022-08-19</th>\n",
              "      <td>0.000000</td>\n",
              "      <td>-0.028602</td>\n",
              "    </tr>\n",
              "    <tr>\n",
              "      <th>2022-08-22</th>\n",
              "      <td>0.000000</td>\n",
              "      <td>-0.036244</td>\n",
              "    </tr>\n",
              "  </tbody>\n",
              "</table>\n",
              "</div>"
            ],
            "text/plain": [
              "            TBIL Returns  AMZN Returns\n",
              "Date                                  \n",
              "2022-08-09           NaN     -0.011333\n",
              "2022-08-10      0.000502      0.035261\n",
              "2022-08-11     -0.000201     -0.014367\n",
              "2022-08-12      0.000000      0.020691\n",
              "2022-08-15     -0.000201     -0.002578\n",
              "2022-08-16      0.000402      0.011175\n",
              "2022-08-17      0.000000     -0.018511\n",
              "2022-08-18      0.000000      0.001407\n",
              "2022-08-19      0.000000     -0.028602\n",
              "2022-08-22      0.000000     -0.036244"
            ]
          },
          "execution_count": 10,
          "metadata": {},
          "output_type": "execute_result"
        }
      ],
      "source": [
        "high_data.head(10)\n",
        "low_data.head(10)"
      ]
    },
    {
      "cell_type": "code",
      "execution_count": null,
      "id": "5b75ea6b",
      "metadata": {
        "colab": {
          "base_uri": "https://localhost:8080/",
          "height": 466
        },
        "id": "5b75ea6b",
        "outputId": "6c5c2388-9eb7-428b-e3df-ef781c68869c"
      },
      "outputs": [
        {
          "data": {
            "image/png": "[encoded data removed]",
            "text/plain": [
              "<Figure size 1080x360 with 3 Axes>"
            ]
          },
          "metadata": {},
          "output_type": "display_data"
        }
      ],
      "source": [
        "# Calculate correlation matrix\n",
        "corr_matrix = pd.concat([high_data, low_data], axis=1).corr()\n",
        "\n",
        "# Extract relevant correlations\n",
        "high_corr = corr_matrix.iloc[0:2, 0:2]\n",
        "low_corr = corr_matrix.iloc[2:4, 2:4]\n",
        "\n",
        "#plot the correlation matrices side by side:\n",
        "\n",
        "fig, (ax1, ax2) = plt.subplots(1, 2, figsize=(15,5), sharex=True, sharey=True)\n",
        "\n",
        "im1 = ax1.imshow(high_corr, cmap='coolwarm', vmin=-1, vmax=1)\n",
        "ax1.set_title('Coca Cola and Pepsi Stock Returns Correlation')\n",
        "ax1.set_xticks([0,1])\n",
        "ax1.set_yticks([0,1])\n",
        "\n",
        "ax1.set_xticklabels(['Coca Cola', 'Pepsi'])\n",
        "\n",
        "#plot the correlation matrices side by side:\n",
        "\n",
        "# fig, (ax1, ax2) = plt.subplots(1, 2, figsize=(15,5))\n",
        "\n",
        "im2 = ax2.imshow(low_corr, cmap='coolwarm', vmin=-1, vmax=1)\n",
        "ax2.set_title('T Bill and Amazon Stock Returns Correlation')\n",
        "ax2.set_xticks([0,1])\n",
        "ax2.set_yticks([0,1])\n",
        "ax2.set_xticklabels(['T Bill', 'Amazon'])\n",
        "cbar = fig.colorbar(im2, ax=[ax1, ax2], orientation='vertical')\n"
      ]
    },
    {
      "cell_type": "code",
      "execution_count": null,
      "id": "866df9f3",
      "metadata": {
        "colab": {
          "base_uri": "https://localhost:8080/",
          "height": 464
        },
        "id": "866df9f3",
        "outputId": "ca2adf66-1286-4af5-9bcc-fd7bec416e00"
      },
      "outputs": [
        {
          "data": {
            "image/png": "[encoded data removed]",
            "text/plain": [
              "<Figure size 720x360 with 1 Axes>"
            ]
          },
          "metadata": {},
          "output_type": "display_data"
        }
      ],
      "source": [
        "#df combined\n",
        "df_combined = pd.concat([AMZN['Adj Close'], TBIL['Adj Close']], axis=1, join='inner')\n",
        "df_combined.columns = ['AMZN', 'TBIL']\n",
        "\n",
        "# calculate rolling correlation with a window of 30 days\n",
        "rolling_corr = df_combined['AMZN'].rolling(window=30).corr(df_combined['TBIL'])\n",
        "\n",
        "# plot the rolling correlation\n",
        "fig, ax = plt.subplots(figsize=(10, 5))\n",
        "rolling_corr.plot(ax=ax, title='Rolling Correlation (30-day window)')\n",
        "plt.show()"
      ]
    },
    {
      "cell_type": "code",
      "execution_count": null,
      "id": "f01e70ad",
      "metadata": {
        "id": "f01e70ad"
      },
      "outputs": [],
      "source": []
    }
  ],
  "metadata": {
    "colab": {
      "provenance": [],
      "include_colab_link": true
    },
    "kernelspec": {
      "display_name": "Python 3 (ipykernel)",
      "language": "python",
      "name": "python3"
    },
    "language_info": {
      "codemirror_mode": {
        "name": "ipython",
        "version": 3
      },
      "file_extension": ".py",
      "mimetype": "text/x-python",
      "name": "python",
      "nbconvert_exporter": "python",
      "pygments_lexer": "ipython3",
      "version": "3.9.7"
    }
  },
  "nbformat": 4,
  "nbformat_minor": 5
}
